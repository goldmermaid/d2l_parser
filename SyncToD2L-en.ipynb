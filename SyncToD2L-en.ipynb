{
 "cells": [
  {
   "cell_type": "code",
   "execution_count": 1,
   "id": "dying-thing",
   "metadata": {},
   "outputs": [],
   "source": [
    "import os\n",
    "import shutil"
   ]
  },
  {
   "cell_type": "markdown",
   "id": "chemical-array",
   "metadata": {},
   "source": [
    "Steps:\n",
    "\n",
    "0. in `d2l-en` folder, run `git checkout sync`, i.e. set the status to `sync` branch;\n",
    "1. Change the `chapter_name` with each folder name;\n",
    "2. Run the next two cell, then you may observe some changes in `d2l-en` folder bu runnung the following cmd:\n",
    "\n",
    "    (i). `git status`\n",
    "    \n",
    "    (ii). `git add .`\n",
    "    \n",
    "    (iii). `git commit -m \"d2l-zh  _origin ch1\"` (note: change ch1 to the chapter number)\n",
    "    \n",
    "    (iv) `git push piggy sync`\n",
    "    \n",
    "3. Next, repete the above steps with ch2, ch3, etc."
   ]
  },
  {
   "cell_type": "code",
   "execution_count": 14,
   "id": "aggregate-dressing",
   "metadata": {},
   "outputs": [
    {
     "name": "stdout",
     "output_type": "stream",
     "text": [
      "sentiment-analysis-rnn.md\n",
      "index.md\n",
      "natural-language-inference-and-dataset.md\n",
      "sentiment-analysis-and-dataset.md\n",
      "finetuning-bert.md\n",
      "natural-language-inference-attention.md\n",
      "natural-language-inference-bert.md\n",
      "sentiment-analysis-cnn.md\n"
     ]
    }
   ],
   "source": [
    "## list all the \"origin\" file (d2l-en file) in a directory\n",
    "chapter_name = \n",
    "\n",
    "# \"chapter_natural-language-processing-applications\"\n",
    "# \"chapter_natural-language-processing-pretraining\"\n",
    "# \"chapter_computer-vision\"\n",
    "# \"chapter_computational-performance\"\n",
    "# \"chapter_optimization\"\n",
    "# \"chapter_attention-mechanisms\"\n",
    "# \"chapter_recurrent-modern\"\n",
    "# \"chapter_recurrent-neural-networks\"\n",
    "# \"chapter_convolutional-modern\" \n",
    "# \"chapter_convolutional-neural-networks\" \n",
    "# \"chapter_deep-learning-computation\"\n",
    "# \"chapter_multilayer-perceptrons\" \n",
    "# \"chapter_linear-networks\"\n",
    "# \"chapter_preliminaries\"\n",
    "\n",
    "\n",
    "source_dir = \"/Users/rlhu/git_goldpiggy/d2l-zh/{}\".format(chapter_name)\n",
    "for f in os.listdir(source_dir):\n",
    "    if (f[-10:] == \"_origin.md\"):\n",
    "        print(\"{}.md\".format(f[:-10]))"
   ]
  },
  {
   "cell_type": "code",
   "execution_count": 15,
   "id": "proud-combining",
   "metadata": {},
   "outputs": [
    {
     "name": "stdout",
     "output_type": "stream",
     "text": [
      "sentiment-analysis-rnn.md\n",
      "index.md\n",
      "natural-language-inference-and-dataset.md\n",
      "sentiment-analysis-and-dataset.md\n",
      "finetuning-bert.md\n",
      "natural-language-inference-attention.md\n",
      "natural-language-inference-bert.md\n",
      "sentiment-analysis-cnn.md\n"
     ]
    }
   ],
   "source": [
    "## copy all the \"origin\" file (d2l-en file) in a directory to d2l-en\n",
    "\n",
    "destination_dir = \"/Users/rlhu/git_goldpiggy/d2l-en/{}\".format(chapter_name)\n",
    "for f in os.listdir(source_dir):\n",
    "    if (f[-10:] == \"_origin.md\"):\n",
    "        original_name = \"{}.md\".format(f[:-10])\n",
    "        print(original_name)\n",
    "        source_file_path = os.path.join(source_dir, f)\n",
    "        destination_file_path = os.path.join(destination_dir, original_name)\n",
    "        shutil.copy(source_file_path, destination_file_path)"
   ]
  },
  {
   "cell_type": "code",
   "execution_count": null,
   "id": "cheap-massachusetts",
   "metadata": {},
   "outputs": [],
   "source": []
  },
  {
   "cell_type": "code",
   "execution_count": null,
   "id": "major-annotation",
   "metadata": {},
   "outputs": [],
   "source": []
  }
 ],
 "metadata": {
  "kernelspec": {
   "display_name": "Python 3",
   "language": "python",
   "name": "python3"
  },
  "language_info": {
   "codemirror_mode": {
    "name": "ipython",
    "version": 3
   },
   "file_extension": ".py",
   "mimetype": "text/x-python",
   "name": "python",
   "nbconvert_exporter": "python",
   "pygments_lexer": "ipython3",
   "version": "3.8.8"
  },
  "latex_envs": {
   "LaTeX_envs_menu_present": true,
   "autoclose": false,
   "autocomplete": true,
   "bibliofile": "biblio.bib",
   "cite_by": "apalike",
   "current_citInitial": 1,
   "eqLabelWithNumbers": true,
   "eqNumInitial": 1,
   "hotkeys": {
    "equation": "Ctrl-E",
    "itemize": "Ctrl-I"
   },
   "labels_anchors": false,
   "latex_user_defs": false,
   "report_style_numbering": false,
   "user_envs_cfg": false
  }
 },
 "nbformat": 4,
 "nbformat_minor": 5
}
